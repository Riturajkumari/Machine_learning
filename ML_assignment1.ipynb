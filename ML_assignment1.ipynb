{
  "cells": [
    {
      "cell_type": "markdown",
      "metadata": {
        "id": "view-in-github",
        "colab_type": "text"
      },
      "source": [
        "<a href=\"https://colab.research.google.com/github/Riturajkumari/Machine_learning/blob/main/ML_assignment1.ipynb\" target=\"_parent\"><img src=\"https://colab.research.google.com/assets/colab-badge.svg\" alt=\"Open In Colab\"/></a>"
      ]
    },
    {
      "cell_type": "markdown",
      "metadata": {
        "id": "VRAcXtkEFcr4"
      },
      "source": [
        "Q.  Explain the following with example:\n",
        "\n",
        "1.) Artificial Intelligence\n",
        "\n",
        "2.) Machine Learning\n",
        "\n",
        "3.) Deep Learning"
      ]
    },
    {
      "cell_type": "markdown",
      "metadata": {
        "id": "6j6uPYa2Fcr9"
      },
      "source": [
        "**Artificial Intelligence (AI)**:\n",
        "\n",
        "Artificial Intelligence (AI) refers to the simulation of human intelligence in machines that are programmed to think and act like humans.\n",
        "\n",
        "**Need for Artificial Intelligence ** \n",
        "\n",
        "- To create expert systems that exhibit intelligent behavior with the capability to learn, demonstrate, explain, and advise its users.\n",
        "- Helping machines find solutions to complex problems like humans do and applying them as algorithms in a computer-friendly manner.\n",
        "**Technologies Based on Artificial Intelligence:**\n",
        "- Computer Vision: A field of AI that deals with the processing and analysis of visual information using computer algorithms.\n",
        "- Robotics: AI-powered robots and automation systems that can perform tasks in manufacturing, healthcare, retail, and other industries.\n",
        "- Neural Networks: A type of machine learning algorithm modeled after the structure and function of the human brain.\n",
        "- Expert Systems: AI systems that mimic the decision-making ability of a human expert in a specific field.\n",
        "- Chatbots: AI-powered virtual assistants that can interact with users through text-based or voice-based interfaces.\n",
        "\n",
        "**Uses of Artificial Intelligence :**\n",
        "\n",
        "Artificial Intelligence has many practical applications across various industries and domains, including:\n",
        "\n",
        "- Healthcare: AI is used for medical diagnosis, drug discovery, and predictive analysis of diseases.\n",
        "- Finance: AI helps in credit scoring, fraud detection, and financial forecasting.\n",
        "- Retail: AI is used for product recommendations, price optimization, and supply chain management.\n",
        "- Manufacturing: AI helps in quality control, predictive maintenance, and production optimization.\n",
        "- Transportation: AI is used for autonomous vehicles, traffic prediction, and route optimization.\n",
        "- Customer service: AI-powered chatbots are used for customer support, answering frequently asked questions, and handling simple requests.\n",
        "- Security: AI is used for facial recognition, intrusion detection, and cybersecurity threat analysis.\n",
        "- Marketing: AI is used for targeted advertising, customer segmentation, and sentiment analysis.\n",
        "- Education: AI is used for personalized learning, adaptive testing, and intelligent tutoring systems."
      ]
    },
    {
      "cell_type": "markdown",
      "metadata": {
        "id": "h8V3KCkBFcr9"
      },
      "source": [
        "**Machine Learning**\n",
        "Machine Learning is the field of study that gives computers the ability to learn without being explicitly programmed. \n",
        "- Data is a crucial component in the field of Machine Learning. It refers to the set of observations or measurements that can be used to train a machine-learning model. \n",
        "-  The quality and quantity of data available for training and testing play a significant role in determining the performance of a machine-learning model.\n",
        "-  Machine learning algorithms use data to learn patterns and relationships between input variables and target outputs, which can then be used for prediction or classification tasks.\n",
        "\n",
        "**Data is typically divided into two types:**\n",
        "\n",
        "1. Labeled data\n",
        "2. Unlabeled data\n",
        "\n",
        "1.Labeled data: Labeled data includes a label or target variable that the model is trying to predict the model \n",
        "2.  unlabeled data does not include a label or target variable.\n",
        "- The data used in machine learning is typically numerical or categorical.\n",
        "- Numerical data includes values that can be ordered and measured, such as age or income. Categorical data includes values that represent categories, such as gender or type of fruit.\n"
      ]
    },
    {
      "cell_type": "markdown",
      "metadata": {
        "id": "MuC1GcseFcr-"
      },
      "source": [
        "**Advantages of using data in Machine Learning:**\n",
        "- Improved accuracy: With large amounts of data, machine learning algorithms can learn more complex relationships between inputs and outputs, leading to improved accuracy in predictions and classifications.\n",
        "- Automation: Machine learning models can automate decision-making processes and can perform repetitive tasks more efficiently and accurately than humans.\n",
        "- Personalization: With the use of data, machine learning algorithms can personalize experiences for individual users, leading to increased user satisfaction.\n",
        "- Cost savings: Automation through machine learning can result in cost savings for businesses by reducing the need for manual labor and increasing efficiency."
      ]
    },
    {
      "cell_type": "markdown",
      "metadata": {
        "id": "h_W_pIXPFcr-"
      },
      "source": [
        "**Deep learning**:\n",
        "- Deep learning is a branch of machine learning which is completely based on artificial neural networks, as neural network is going to mimic the human brain so deep learning is also a kind of mimic of human brain. \n",
        "\n",
        "- Deep Learning is a subset of Machine Learning that is based on artificial neural networks (ANNs) with multiple layers, also known as deep neural networks (DNNs). These neural networks are inspired by the structure and function of the human brain, and they are designed to learn from large amounts of data in an unsupervised or semi-supervised manner.\n",
        " example:\n",
        "  -  Image Recognition – Recognizes and identifies peoples and objects in images as well as to understand content and context. This area is already being used in Gaming, Retail, Tourism, etc.\n",
        "  - Predicting Earthquakes – Teaches a computer to perform viscoelastic computations which are used in predicting earthquakes.\n",
        "  - Image and video recognition: Deep learning models are used to automatically classify images and videos, detect objects, and identify faces. Applications include image and video search engines, self-driving cars, and surveillance systems.\n",
        "  - Robotics: Deep learning models are used to control robots and drones, and to improve their ability to perceive and interact with the environment.\n",
        "  - Recommender Systems: Deep learning models are used to make personalized recommendations to users, such as product recommendations, movie recommendations, and news recommendations."
      ]
    },
    {
      "cell_type": "markdown",
      "metadata": {
        "id": "9JS3cJSMFcr-"
      },
      "source": []
    },
    {
      "cell_type": "markdown",
      "metadata": {
        "id": "_46tanzcFcr_"
      },
      "source": []
    },
    {
      "cell_type": "markdown",
      "metadata": {
        "id": "ddwsmxMdFcr_"
      },
      "source": [
        "**Q2- What is supervised learning? List some example of Supervised learning**"
      ]
    },
    {
      "cell_type": "markdown",
      "metadata": {
        "id": "v5zDUlunFcsA"
      },
      "source": [
        "- Supervised learning is when the model is getting trained on a labelled dataset. A labelled dataset is one that has both input and output parameters. In this type of learning both training and validation, datasets are labelled.\n",
        "**Types of Supervised Learning:**\n",
        "- classification(the output features is categorical )\n",
        "- Regression(output feature continous value)\n",
        "    - Classification: It is a Supervised Learning task where output is having defined labels(discrete value). For example Output – fare  is continous variable and not categrical column.\n",
        "   -  In a classification task, we are supposed to predict discrete target variables(class labels) using independent features.\n",
        "    - In the classification task, we are supposed to find a decision boundary that can separate the different classes in the target variable.\n",
        "    \n",
        "- Regression: It is a Supervised Learning task where output is having continuous value. \n",
        "For example , Output – fare is not having any discrete value but is continuous in a particular range. and numerical columns.\n",
        "   - In a regression task, we are supposed to predict a continuous target variable using independent features.\n",
        "   - In the regression tasks, we are faced with generally two types of problems linear and non-linear regression.\n"
      ]
    },
    {
      "cell_type": "markdown",
      "metadata": {
        "id": "JWZ071pPFcsA"
      },
      "source": [
        "**Supervised machine learning**\n"
      ]
    },
    {
      "cell_type": "markdown",
      "metadata": {
        "id": "ruM0b2pjFcsB"
      },
      "source": [
        "- Algorithms are trained using labeled data.\n",
        "- Highly accurate\t\n",
        "- Linear and Logistics regression, Random forest,\n",
        "  Support Vector Machine, Neural Network, etc.\n",
        "- Desired output is given.\t\n",
        "- Use training data to infer model.\t\n",
        "- We can test our model.\t\n",
        "- Supervised learning is also called classification.\t\n",
        "- Example: Optical character recognition.\t"
      ]
    },
    {
      "cell_type": "markdown",
      "metadata": {
        "id": "TADZM8lNFcsB"
      },
      "source": [
        "**Comparison between Classification and Regression**"
      ]
    },
    {
      "cell_type": "markdown",
      "metadata": {
        "id": "IQCkqhCKFcsB"
      },
      "source": [
        "**Classification**\n",
        "- In this problem statement, the target variables are discrete.\t\n",
        "- Problems like Spam Email Classification, Disease prediction like problems are solved using Classification Algorithms.\t\n",
        "- In this algorithm, we try to find the best possible decision boundary which can separate the two classes with the maximum possible separation.\t\n",
        "- Evaluation metrics like Precision, Recall, and F1-Score are used here to evaluate the performance of the classification algorithms.\t\n",
        "- Here we face the problems like binary Classification or Multi-Class Classification problems.\t"
      ]
    },
    {
      "cell_type": "markdown",
      "metadata": {
        "id": "im5TxdMHFcsB"
      },
      "source": [
        "**Regressor**\n",
        "-  In this problem statement, the target variables are continous.\n",
        "- Problems like House Price Prediction, Rainfall Prediction like problems are solved using regression Algorithms.\n",
        "- In this algorithm, we try to find the best-fit line which can represent the overall trend in the data.\n",
        "- Evaluation metrics like Mean Squared Error, R2-Score, and  MAPE are used here to evaluate the performance of the regression algorithms.\n",
        "- Here we face the problems like Linear Regression models as well as non-linear models.\n",
        "\n",
        "\n",
        "\n"
      ]
    },
    {
      "cell_type": "code",
      "execution_count": null,
      "metadata": {
        "id": "skh0eDatFcsC"
      },
      "outputs": [],
      "source": [
        "# example : titanic train dataset\n",
        "import pandas as pd\n"
      ]
    },
    {
      "cell_type": "code",
      "execution_count": null,
      "metadata": {
        "id": "o_1QdunNFcsC",
        "outputId": "e360006f-5b67-4467-b73f-e2f15f93691f"
      },
      "outputs": [
        {
          "data": {
            "text/html": [
              "<div>\n",
              "<style scoped>\n",
              "    .dataframe tbody tr th:only-of-type {\n",
              "        vertical-align: middle;\n",
              "    }\n",
              "\n",
              "    .dataframe tbody tr th {\n",
              "        vertical-align: top;\n",
              "    }\n",
              "\n",
              "    .dataframe thead th {\n",
              "        text-align: right;\n",
              "    }\n",
              "</style>\n",
              "<table border=\"1\" class=\"dataframe\">\n",
              "  <thead>\n",
              "    <tr style=\"text-align: right;\">\n",
              "      <th></th>\n",
              "      <th>PassengerId</th>\n",
              "      <th>Survived</th>\n",
              "      <th>Pclass</th>\n",
              "      <th>Name</th>\n",
              "      <th>Sex</th>\n",
              "      <th>Age</th>\n",
              "      <th>SibSp</th>\n",
              "      <th>Parch</th>\n",
              "      <th>Ticket</th>\n",
              "      <th>Fare</th>\n",
              "      <th>Cabin</th>\n",
              "      <th>Embarked</th>\n",
              "    </tr>\n",
              "  </thead>\n",
              "  <tbody>\n",
              "    <tr>\n",
              "      <th>0</th>\n",
              "      <td>1</td>\n",
              "      <td>0</td>\n",
              "      <td>3</td>\n",
              "      <td>Braund, Mr. Owen Harris</td>\n",
              "      <td>male</td>\n",
              "      <td>22.0</td>\n",
              "      <td>1</td>\n",
              "      <td>0</td>\n",
              "      <td>A/5 21171</td>\n",
              "      <td>7.2500</td>\n",
              "      <td>NaN</td>\n",
              "      <td>S</td>\n",
              "    </tr>\n",
              "    <tr>\n",
              "      <th>1</th>\n",
              "      <td>2</td>\n",
              "      <td>1</td>\n",
              "      <td>1</td>\n",
              "      <td>Cumings, Mrs. John Bradley (Florence Briggs Th...</td>\n",
              "      <td>female</td>\n",
              "      <td>38.0</td>\n",
              "      <td>1</td>\n",
              "      <td>0</td>\n",
              "      <td>PC 17599</td>\n",
              "      <td>71.2833</td>\n",
              "      <td>C85</td>\n",
              "      <td>C</td>\n",
              "    </tr>\n",
              "    <tr>\n",
              "      <th>2</th>\n",
              "      <td>3</td>\n",
              "      <td>1</td>\n",
              "      <td>3</td>\n",
              "      <td>Heikkinen, Miss. Laina</td>\n",
              "      <td>female</td>\n",
              "      <td>26.0</td>\n",
              "      <td>0</td>\n",
              "      <td>0</td>\n",
              "      <td>STON/O2. 3101282</td>\n",
              "      <td>7.9250</td>\n",
              "      <td>NaN</td>\n",
              "      <td>S</td>\n",
              "    </tr>\n",
              "    <tr>\n",
              "      <th>3</th>\n",
              "      <td>4</td>\n",
              "      <td>1</td>\n",
              "      <td>1</td>\n",
              "      <td>Futrelle, Mrs. Jacques Heath (Lily May Peel)</td>\n",
              "      <td>female</td>\n",
              "      <td>35.0</td>\n",
              "      <td>1</td>\n",
              "      <td>0</td>\n",
              "      <td>113803</td>\n",
              "      <td>53.1000</td>\n",
              "      <td>C123</td>\n",
              "      <td>S</td>\n",
              "    </tr>\n",
              "    <tr>\n",
              "      <th>4</th>\n",
              "      <td>5</td>\n",
              "      <td>0</td>\n",
              "      <td>3</td>\n",
              "      <td>Allen, Mr. William Henry</td>\n",
              "      <td>male</td>\n",
              "      <td>35.0</td>\n",
              "      <td>0</td>\n",
              "      <td>0</td>\n",
              "      <td>373450</td>\n",
              "      <td>8.0500</td>\n",
              "      <td>NaN</td>\n",
              "      <td>S</td>\n",
              "    </tr>\n",
              "  </tbody>\n",
              "</table>\n",
              "</div>"
            ],
            "text/plain": [
              "   PassengerId  Survived  Pclass  \\\n",
              "0            1         0       3   \n",
              "1            2         1       1   \n",
              "2            3         1       3   \n",
              "3            4         1       1   \n",
              "4            5         0       3   \n",
              "\n",
              "                                                Name     Sex   Age  SibSp  \\\n",
              "0                            Braund, Mr. Owen Harris    male  22.0      1   \n",
              "1  Cumings, Mrs. John Bradley (Florence Briggs Th...  female  38.0      1   \n",
              "2                             Heikkinen, Miss. Laina  female  26.0      0   \n",
              "3       Futrelle, Mrs. Jacques Heath (Lily May Peel)  female  35.0      1   \n",
              "4                           Allen, Mr. William Henry    male  35.0      0   \n",
              "\n",
              "   Parch            Ticket     Fare Cabin Embarked  \n",
              "0      0         A/5 21171   7.2500   NaN        S  \n",
              "1      0          PC 17599  71.2833   C85        C  \n",
              "2      0  STON/O2. 3101282   7.9250   NaN        S  \n",
              "3      0            113803  53.1000  C123        S  \n",
              "4      0            373450   8.0500   NaN        S  "
            ]
          },
          "execution_count": 7,
          "metadata": {},
          "output_type": "execute_result"
        }
      ],
      "source": [
        "df= pd.read_csv(\"train.csv\")\n",
        "df.head()"
      ]
    },
    {
      "cell_type": "markdown",
      "metadata": {
        "id": "1Mja4YjSFcsD"
      },
      "source": [
        "**Q3. What is unsupervised  learning*? List of some of unsupervised learning*.**"
      ]
    },
    {
      "cell_type": "markdown",
      "metadata": {
        "id": "dGdTklltFcsD"
      },
      "source": [
        "- unsupervised learning is the training of a machine using information that is neither classified nor labeled and allowing the algorithm to act on that information without guidance. \n",
        "-  machine is to group unsorted information according to similarities, patterns, and differences without any prior training of data. \n",
        "- Unsupervised learning is classified into two categories of algorithms: \n",
        "\n",
        "   - Clustering: A clustering problem is where you want to discover the inherent groupings in the data, such as grouping customers by purchasing behavior.\n",
        "   - Association: An association rule learning problem is where you want to discover rules that describe large portions of your data, such as people that buy X also tend to buy Y."
      ]
    },
    {
      "cell_type": "markdown",
      "metadata": {
        "id": "rWnfaZiGFcsD"
      },
      "source": [
        "Types of Unsupervised Learning:-\n",
        "\n",
        "1. Clustering\n",
        "\n",
        "2. Exclusive (partitioning)\n",
        "3. Agglomerative\n",
        "4. Overlapping\n",
        "5. Probabilistic"
      ]
    },
    {
      "cell_type": "markdown",
      "metadata": {
        "id": "JkBdZXl-FcsD"
      },
      "source": [
        "- **Unsupervised machine learning**"
      ]
    },
    {
      "cell_type": "markdown",
      "metadata": {
        "id": "IPUWATFcFcsD"
      },
      "source": [
        "- Algorithms are used against data that is not labeled\n",
        "-  Computationally complex\n",
        "- Less accurate \n",
        "- No. of classes is not known\n",
        "- Uses real-time analysis of data\n",
        "- K-Means clustering, Hierarchical clustering, \n",
        "\n",
        "Apriori algorithm, etc.\n",
        "- Desired output is not given.\n",
        "- No training data is used.\n",
        "- It is possible to learn larger and more complex models with unsupervised learning.\n",
        "- We can not test our model.\n",
        "- Unsupervised learning is also called clustering.\n",
        "- Example: Find a face in an image.\n"
      ]
    },
    {
      "cell_type": "markdown",
      "metadata": {
        "id": "0YA9PsAOFcsD"
      },
      "source": [
        "**Q4- What is the difference betwwen  AI, ML, DL, and DS?**"
      ]
    },
    {
      "cell_type": "markdown",
      "metadata": {
        "id": "Wwr7o4qmFcsE"
      },
      "source": [
        "**Artificial Intelligence**\n",
        "- Artificial Intelligence: It deals with giving machines the ability to think and behave  like Human Beings. The ability to learn and solve problems.\n",
        " *Need for Artificial Intelligence*  \n",
        "\n",
        "- To create expert systems that exhibit intelligent behavior with the capability to learn, demonstrate, explain, and advise its users.\n",
        "- Helping machines find solutions to complex problems like humans do and applying them as algorithms in a computer-friendly manner.\n",
        "\n",
        "\n",
        "\n"
      ]
    },
    {
      "cell_type": "markdown",
      "metadata": {
        "id": "vTPck3jPFcsE"
      },
      "source": [
        "**Machine Learning:**\n",
        "- Machine Learning: It is the process of enabling a machine to learn from its past, in order to produce better results.\n",
        "- Mасhine Leаrning is а subset оf Аrtifiсiаl Intelligenсe thаt uses stаtistiсаl leаrning аlgоrithms tо build systems thаt hаve the аbility tо аutоmаtiсаlly leаrn аnd imрrоve frоm exрerienсes withоut being exрliсitly рrоgrаmmed.\n",
        "- mасhine leаrning in оur dаy tо dаy life when we use serviсes like reсоmmendаtiоn systems оn Netflix, Yоutube, Sроtify; seаrсh engines like gооgle аnd yаhоо; vоiсe аssistаnts like gооgle hоme аnd аmаzоn аlexа. \n",
        "- ML аlgоrithms саn be brоаdly сlаssified intо three саtegоries Suрervised, Unsuрervised аnd Reinfоrсement leаrning.\n",
        "- Machine Learning is a field of study that gives computers the capability to learn without being explicitly programmed.\n",
        "- Combination of Machine and Data Science.\n",
        "- It uses various techniques like regression and supervised clustering. \n",
        "- But it is only focused on algorithm statistics.\n",
        "- It fits within data science.\n",
        "- It is three types: Unsupervised learning, Reinforcement learning, Supervised learning.\n",
        "- Example: Facebook uses Machine Learning technology.\n"
      ]
    },
    {
      "cell_type": "markdown",
      "metadata": {
        "id": "r7-yD9DpFcsF"
      },
      "source": [
        "**Deeр Leаrning**\n",
        "- Deeр Leаrning is bаsiсаlly mimiсking the humаn brаin, it саn аlsо be defined аs а multi neurаl netwоrk аrсhiteсture соntаining а lаrge number оf раrаmeters аnd lаyers.\n",
        "Applications:\n",
        "\n",
        "  - Data Compression\n",
        "  - Pattern Recognition\n",
        "  - Computer Vision\n",
        "  - Sonar Target Recognition\n",
        "  -  Speech Recognition\n",
        "  - Handwritten Characters Recognition"
      ]
    },
    {
      "cell_type": "markdown",
      "metadata": {
        "id": "rNrGgw6GFcsF"
      },
      "source": [
        "**Data Science**\n",
        "- Data Science: It is the study of Data, in order to gain some knowledge from it.\n",
        "- Data Science is a field about processes and systems to extract data from structured and semi-structured data.\n",
        "- Need the entire analytics universe.\t\n",
        "- Data in Data Science maybe or maybe not evolved from a machine or mechanical process.\t\n",
        "- Example: Netflix uses Data Science technology.\t"
      ]
    },
    {
      "cell_type": "code",
      "execution_count": null,
      "metadata": {
        "id": "7dJT24mgFcsG"
      },
      "outputs": [],
      "source": []
    },
    {
      "cell_type": "markdown",
      "metadata": {
        "id": "FoZqO5uQFcsG"
      },
      "source": [
        "Q5. **what are the main difference between supervised , unsupervised and semi supervised learning?**"
      ]
    },
    {
      "cell_type": "markdown",
      "metadata": {
        "id": "5wtgvTeUFcsG"
      },
      "source": [
        "**SUPERVISED LEARNING**\n",
        "\n",
        "- Input Data : Uses Known and Labeled Data as input\t\n",
        "- Computational Complexity\t: Less Computational Complexity\t\n",
        "- Real Time\t: Uses off-line analysis\t\n",
        "- Accuracy of Results\t: Accurate and Reliable Results\t\n",
        "- Output data \t: Desired output is given.\t\n",
        "- Model \t:In supervised learning it is not possible to learn larger and more complex models than with supervised learning\t\n",
        "- Training data\t:In supervised learning training data is used to infer model \t\n",
        "- Test of model \t:We can test our model.\t\n",
        "- Example \t:  Optical Character Recognition\t\n"
      ]
    },
    {
      "cell_type": "markdown",
      "metadata": {
        "id": "-VTLJlz9FcsG"
      },
      "source": [
        "**UNSUPERVISED LEARNING**\n",
        "Input Data : Uses Unknown Data as input\n",
        "\n",
        "- Computational Complexity\t: More Computational Complex\n",
        "\n",
        "- Real Time\t:Uses Real Time Analysis of Data\n",
        "\n",
        "- Accuracy of Results\t:Moderate Accurate and Reliable Results\n",
        "\n",
        "- Output data \t: Desired output is not given.\n",
        "\n",
        "- Model \t:In unsupervised learning it is possible to learn larger and more complex models than  with unsupervised learning\n",
        "\n",
        "- Training data\t:In unsupervised learning training data is not used.\n",
        "\t\n",
        "- Test of model \t:We can not test our model.\n",
        "\n",
        "- Example \t: Find a face in an image.\n"
      ]
    },
    {
      "cell_type": "markdown",
      "metadata": {
        "id": "nXLu3g25FcsG"
      },
      "source": [
        "**SEMI-SUPERVISED**\n",
        "\n",
        "- Semi-supervised learning is a type of machine learning that falls in between supervised and unsupervised learning. It is a method that uses a small amount of labeled data and a large amount of unlabeled data to train a model. \n",
        "- semi-supervised learning is to learn a function that can accurately predict the output variable based on the input variables, similar to supervised learning. However, unlike supervised learning, the algorithm is trained on a dataset that contains both labeled and unlabeled data.\n",
        "- Example: Image classification Semi-supervised learning can be used to train an image classification model using a small amount of labeled data and a large amount of unlabeled image data."
      ]
    },
    {
      "cell_type": "markdown",
      "metadata": {
        "id": "9k0KEP_EFcsG"
      },
      "source": [
        "**Q6- What is train, test and validation split? Explain the importance of each term.**"
      ]
    },
    {
      "cell_type": "markdown",
      "metadata": {
        "id": "xUqvGk5vFcsG"
      },
      "source": [
        "*train*\n",
        "- Machine learning uses algorithms to learn from data in datasets. They find patterns, develop understanding, make decisions, and evaluate those decisions.\n",
        "- training data is collected from several resources and then preprocessed and organized to provide proper performance of the model.\n"
      ]
    },
    {
      "cell_type": "markdown",
      "metadata": {
        "id": "HjhIuPhQFcsG"
      },
      "source": [
        "**Test**\n",
        "This dataset is independent of the training set but has a somewhat similar type of probability distribution of classes and is used as a benchmark to evaluate the model, used only after the training of the model is complete."
      ]
    },
    {
      "cell_type": "markdown",
      "metadata": {
        "id": "yEAOFov5FcsG"
      },
      "source": [
        "**Validation Set**\n",
        "- The validation set is used to fine-tune the hyperparameters of the model and is considered a part of the training of the model.\n",
        "- The model only sees this data for evaluation but does not learn from this data, providing an objective unbiased evaluation of the model. "
      ]
    },
    {
      "cell_type": "markdown",
      "metadata": {
        "id": "KEFDKOTiFcsG"
      },
      "source": [
        "**Q7- How can unsupervised learning be used in anomaly detection?**"
      ]
    },
    {
      "cell_type": "markdown",
      "metadata": {
        "id": "j1pP_eL_FcsH"
      },
      "source": [
        "Unsupervised Anomaly Detection: This method does require any training data and instead assumes two things about the data ie Only a small percentage of data is anomalous and Any anomaly is statistically different from the normal samples. Based on the above assumptions, the data is then clustered using a similarity measure and the data points which are far off from the cluster are considered to be anomalies.\n",
        "**Step 1: Importing the required libraries**\n"
      ]
    },
    {
      "cell_type": "code",
      "execution_count": null,
      "metadata": {
        "id": "iT3m6O2XFcsH"
      },
      "outputs": [],
      "source": [
        "# import numpy as np\n",
        "# from scipy import stats\n",
        "# import matplotlib.pyplot as plt\n",
        "# import matplotlib.font_manager\n",
        "# from pyod.models.knn import KNN\n",
        "# from pyod.utils.data import generate_data, get_outliers_inliers\n"
      ]
    },
    {
      "cell_type": "markdown",
      "metadata": {
        "id": "5Jgo0nYsFcsH"
      },
      "source": [
        "**Q8- List down some commonly used supervised learning alorithms and unsupervised learning\n",
        "algorithms.**"
      ]
    },
    {
      "cell_type": "markdown",
      "metadata": {
        "id": "dhXE-9RJFcsH"
      },
      "source": [
        "Supervised learning is classified into two categories of algorithms: \n",
        "\n",
        "- Classification: A classification problem is when the output variable is a category, such as “Red” or “blue” , “disease” or “no disease”.\n",
        "- Regression: A regression problem is when the output variable is a real value, such as “dollars” or “weight”."
      ]
    },
    {
      "cell_type": "markdown",
      "metadata": {
        "id": "vt63TetdFcsH"
      },
      "source": [
        "Supervised learning deals with or learns with “labeled” data. \n",
        "*type*\n",
        "- Regression\n",
        "-  Regression\n",
        "- Classification\n",
        "- Naive Bayes Classifiers\n",
        "- K-NN (k nearest neighbors)\n",
        "- Decision Trees\n",
        "- Support Vector Machine"
      ]
    },
    {
      "cell_type": "code",
      "execution_count": null,
      "metadata": {
        "id": "_VBZZ_uiFcsH"
      },
      "outputs": [],
      "source": []
    },
    {
      "cell_type": "markdown",
      "source": [
        "Unsupervised learning is classified into two categories of algorithms: \n",
        "\n",
        "- Clustering: A clustering problem is where you want to discover the inherent groupings in the data, such as grouping customers by purchasing behavior.\n",
        "- Association: An association rule learning problem is where you want to discover rules that describe large portions of your data, such as people that buy X also tend to buy Y."
      ],
      "metadata": {
        "id": "VbyfkDrvF90l"
      }
    },
    {
      "cell_type": "markdown",
      "source": [
        "Clustering Types:-\n",
        "\n",
        "- Hierarchical clustering\n",
        "- K-means clustering\n",
        "- Principal Component Analysis\n",
        "- Singular Value Decomposition\n",
        "- Independent Component Analysis"
      ],
      "metadata": {
        "id": "Grdp4hwnGEs7"
      }
    },
    {
      "cell_type": "code",
      "source": [],
      "metadata": {
        "id": "BzSS6F98F9KY"
      },
      "execution_count": null,
      "outputs": []
    }
  ],
  "metadata": {
    "kernelspec": {
      "display_name": "Python 3",
      "language": "python",
      "name": "python3"
    },
    "language_info": {
      "codemirror_mode": {
        "name": "ipython",
        "version": 3
      },
      "file_extension": ".py",
      "mimetype": "text/x-python",
      "name": "python",
      "nbconvert_exporter": "python",
      "pygments_lexer": "ipython3",
      "version": "3.7.3"
    },
    "colab": {
      "provenance": [],
      "include_colab_link": true
    }
  },
  "nbformat": 4,
  "nbformat_minor": 0
}